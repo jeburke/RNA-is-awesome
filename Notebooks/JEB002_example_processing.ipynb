{
 "cells": [
  {
   "cell_type": "code",
   "execution_count": 13,
   "metadata": {
    "collapsed": false
   },
   "outputs": [
    {
     "name": "stdout",
     "output_type": "stream",
     "text": [
      "/home/jordan/150827\n"
     ]
    }
   ],
   "source": [
    "cd /home/jordan/150827/"
   ]
  },
  {
   "cell_type": "code",
   "execution_count": 18,
   "metadata": {
    "collapsed": false
   },
   "outputs": [
    {
     "name": "stdout",
     "output_type": "stream",
     "text": [
      "CM763-A_debarcoded.fasta                    preprocess_reads.cfg\r\n",
      "\u001b[0m\u001b[01;31mCM763-A_S42_L008_R1_001.fastq.processed.gz\u001b[0m\r\n"
     ]
    }
   ],
   "source": [
    "ls"
   ]
  },
  {
   "cell_type": "markdown",
   "metadata": {},
   "source": [
    "### Preprocessing"
   ]
  },
  {
   "cell_type": "markdown",
   "metadata": {},
   "source": [
    "#### Remove linker and short reads"
   ]
  },
  {
   "cell_type": "code",
   "execution_count": 5,
   "metadata": {
    "collapsed": false
   },
   "outputs": [],
   "source": [
    "run /usr/local/bin/preprocess_reads.py CM763-A_S42_L008_R1_001.fastq.gz --min-length 26 --no-gzip --linker TATGCCGTCT --max-length 40"
   ]
  },
  {
   "cell_type": "code",
   "execution_count": 14,
   "metadata": {
    "collapsed": false
   },
   "outputs": [
    {
     "name": "stdout",
     "output_type": "stream",
     "text": [
      "/home/jordan/150827/processed_01-20-2016_jordan.0\n"
     ]
    }
   ],
   "source": [
    "cd processed_01-20-2016_jordan.0/"
   ]
  },
  {
   "cell_type": "markdown",
   "metadata": {},
   "source": [
    "#### Collapse identical reads"
   ]
  },
  {
   "cell_type": "markdown",
   "metadata": {},
   "source": [
    " Note: output is fasta not fastq"
   ]
  },
  {
   "cell_type": "code",
   "execution_count": 17,
   "metadata": {
    "collapsed": false
   },
   "outputs": [],
   "source": [
    "!fastx_collapser  -i CM763-A_S42_L008_R1_001.fastq.processed.gz -o CM763-A_collapsed.fasta"
   ]
  },
  {
   "cell_type": "markdown",
   "metadata": {},
   "source": [
    "#### Remove the first 6 nt (barcode) before alignment"
   ]
  },
  {
   "cell_type": "code",
   "execution_count": 19,
   "metadata": {
    "collapsed": true
   },
   "outputs": [],
   "source": [
    "run /home/jordan/CodeBase/Strip6.py CM763-A_collapsed.fasta"
   ]
  },
  {
   "cell_type": "markdown",
   "metadata": {
    "collapsed": true
   },
   "source": [
    "### Align to rRNA"
   ]
  },
  {
   "cell_type": "code",
   "execution_count": 5,
   "metadata": {
    "collapsed": false
   },
   "outputs": [
    {
     "name": "stdout",
     "output_type": "stream",
     "text": [
      "# reads processed: 5047312\r\n",
      "# reads with at least one reported alignment: 572924 (11.35%)\r\n",
      "# reads that failed to align: 4465876 (88.48%)\r\n",
      "# reads with alignments suppressed due to -m: 8512 (0.17%)\r\n",
      "Reported 572924 alignments to 1 output stream(s)\r\n"
     ]
    }
   ],
   "source": [
    "!bowtie -p10 -v2 -m1 --un CM763-A_rRNA_un /home/jordan/GENOMES/crypto_rRNA -f CM763-A_collapsed_debarcoded.fasta --sam CM763-A_rRNA_al.sam"
   ]
  },
  {
   "cell_type": "markdown",
   "metadata": {},
   "source": [
    "### Align to genome"
   ]
  },
  {
   "cell_type": "code",
   "execution_count": 15,
   "metadata": {
    "collapsed": false
   },
   "outputs": [
    {
     "name": "stdout",
     "output_type": "stream",
     "text": [
      "# reads processed: 4474388\r\n",
      "# reads with at least one reported alignment: 3256882 (72.79%)\r\n",
      "# reads that failed to align: 1112989 (24.87%)\r\n",
      "# reads with alignments sampled due to -M: 104517 (2.34%)\r\n",
      "Reported 3256882 alignments to 1 output stream(s)\r\n"
     ]
    }
   ],
   "source": [
    "!bowtie -p10 -v2 -M1 --best --max CM763-A_multi --un CM763-A_un /home/jordan/GENOMES/Crypto_for_gobs -f CM763-A_rRNA_un --sam CM763-A.sam"
   ]
  },
  {
   "cell_type": "markdown",
   "metadata": {},
   "source": [
    "### Make BAM files and sort"
   ]
  },
  {
   "cell_type": "code",
   "execution_count": 16,
   "metadata": {
    "collapsed": false
   },
   "outputs": [
    {
     "name": "stdout",
     "output_type": "stream",
     "text": [
      "/home/jordan/150827/BAMFILES\n"
     ]
    }
   ],
   "source": [
    "cd ../BAMFILES"
   ]
  },
  {
   "cell_type": "code",
   "execution_count": 17,
   "metadata": {
    "collapsed": false
   },
   "outputs": [
    {
     "name": "stdout",
     "output_type": "stream",
     "text": [
      "[samopen] SAM header is present: 14 sequences.\r\n"
     ]
    }
   ],
   "source": [
    "!samtools view -Sbo CM763-A.bam ../processed_01-20-2016_jordan.0/CM763-A.sam"
   ]
  },
  {
   "cell_type": "code",
   "execution_count": 18,
   "metadata": {
    "collapsed": true
   },
   "outputs": [],
   "source": [
    "!samtools sort CM763-A.bam CM763-A_sorted"
   ]
  },
  {
   "cell_type": "code",
   "execution_count": 19,
   "metadata": {
    "collapsed": true
   },
   "outputs": [],
   "source": [
    "!samtools index CM763-A_sorted.bam"
   ]
  },
  {
   "cell_type": "markdown",
   "metadata": {},
   "source": [
    "### Make bedGraph for IGV"
   ]
  },
  {
   "cell_type": "code",
   "execution_count": 21,
   "metadata": {
    "collapsed": false
   },
   "outputs": [],
   "source": [
    "!genomeCoverageBed -ibam CM763-A_sorted.bam -g /home/jordan/GENOMES/crypto_for_bedgraph.genome -bg > CM763-A.bedgraph"
   ]
  },
  {
   "cell_type": "markdown",
   "metadata": {},
   "source": [
    "### Run crunchBAM to count different read types"
   ]
  },
  {
   "cell_type": "markdown",
   "metadata": {},
   "source": [
    "(great for SP datasets, but useful for others as well)"
   ]
  },
  {
   "cell_type": "code",
   "execution_count": 22,
   "metadata": {
    "collapsed": false
   },
   "outputs": [
    {
     "name": "stdout",
     "output_type": "stream",
     "text": [
      "CM763-A.bam  CM763-A.bedgraph  CM763-A_sorted.bam  CM763-A_sorted.bam.bai\r\n"
     ]
    }
   ],
   "source": [
    "ls"
   ]
  },
  {
   "cell_type": "code",
   "execution_count": 24,
   "metadata": {
    "collapsed": false
   },
   "outputs": [
    {
     "name": "stdout",
     "output_type": "stream",
     "text": [
      "{'--cen': None,\n",
      " '--cores': '10',\n",
      " '--count_exonic_reads': True,\n",
      " '--count_junction_reads': False,\n",
      " '--count_splice_site_reads': False,\n",
      " '--count_total_reads': False,\n",
      " '--db': '/home/jordan/GENOMES/H99GOBS.db',\n",
      " '--dir': './JEB002',\n",
      " '--fasta': None,\n",
      " '--find_pileups': 0,\n",
      " '--gff': None,\n",
      " '--output': None,\n",
      " '--species': None,\n",
      " '--transcripts': '/home/jordan/CodeBase/python-hm/CNA3.gff3',\n",
      " '<bamfile>': ['CM763-A_sorted.bam'],\n",
      " 'build_database': False,\n",
      " 'process': True}\n",
      "count_exonic_reads\n",
      "saving output..\n",
      "counting exonic reads\n",
      "Empty DataFrame\n",
      "Columns: [CM763-A_sorted.bam]\n",
      "Index: []\n",
      "\n",
      "[0 rows x 1 columns]\n",
      "Coverage database saved in  ./JEB002transcript_cover_db\n",
      "Database constructed and saved\n",
      "done\n",
      "CM763-A_sorted.bam\n"
     ]
    }
   ],
   "source": [
    "run /home/jordan/CodeBase/python-hm/crunchBAM.py process --db=/home/jordan/GENOMES/H99GOBS.db --dir=./JEB002 --cores=10 --transcripts=/home/jordan/CodeBase/python-hm/CNA3.gff3 --find_pileups --count_total_reads --count_exonic_reads --count_splice_site_reads *sorted.bam"
   ]
  },
  {
   "cell_type": "code",
   "execution_count": null,
   "metadata": {
    "collapsed": true
   },
   "outputs": [],
   "source": []
  }
 ],
 "metadata": {
  "kernelspec": {
   "display_name": "Python 2",
   "language": "python",
   "name": "python2"
  },
  "language_info": {
   "codemirror_mode": {
    "name": "ipython",
    "version": 2
   },
   "file_extension": ".py",
   "mimetype": "text/x-python",
   "name": "python",
   "nbconvert_exporter": "python",
   "pygments_lexer": "ipython2",
   "version": "2.7.3"
  }
 },
 "nbformat": 4,
 "nbformat_minor": 0
}
